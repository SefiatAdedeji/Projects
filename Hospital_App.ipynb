{
 "cells": [
  {
   "cell_type": "markdown",
   "metadata": {
    "id": "PH27Xic9_y0_"
   },
   "source": [
    "**HOSPITAL APP**\n",
    "\n",
    "---\n",
    "\n",
    "\n",
    "\n",
    "This is an Hospital App, where patient can book and appointment with doctor and can also be assigned to doctor based on the symptoms of the patient\n",
    "\n",
    "\n",
    "\n",
    "\n"
   ]
  },
  {
   "cell_type": "code",
   "execution_count": 1,
   "metadata": {
    "id": "FugSsrOkFeFV"
   },
   "outputs": [],
   "source": [
    "class patient():\n",
    "  def __init__(self,name,id,symptoms):\n",
    "        self.name = name\n",
    "        self.id = id\n",
    "        self.symptoms = symptoms\n",
    "        bonus = 1000\n",
    "        reg_fee = 1000\n",
    "        self.reg_fee = reg_fee\n",
    "        first_timer = bonus + self.reg_fee\n",
    "        self.first_timer = first_timer\n",
    "        \n",
    "  def display(self):\n",
    "        print(f\"Hello {self.name}, Welcome to SO Hospital, your id is {self.id}\")\n",
    "        print(\"1- booking\")\n",
    "        print(\"2- doctor\")\n",
    "        print(\"3- enquiries\")\n",
    "\n",
    "        option = int(input('Enter here: '))\n",
    "        if option == 1:\n",
    "          self.booking()\n",
    "        elif option == 2:\n",
    "          self.treatment()\n",
    "        elif option == 3:\n",
    "          self.enquiries()\n",
    "        else:\n",
    "          print('invalid option: Enter either option 1,2 or 3')\n",
    "          self.display() \n",
    "\n",
    "  def booking(self):\n",
    "            booking = int(input(\"Enter amount: \"))\n",
    "            self.booking = booking\n",
    "            if booking == self.first_timer:\n",
    "                print(\"You are eligible for an appointment with us as a first timer\")\n",
    "            elif booking < self.first_timer:\n",
    "                print(\"Oops, money not complete not eligible\")\n",
    "            elif booking > self.first_timer:\n",
    "                print(f\"eligible, you have{self.booking - self.first_timer} left in your account!\")\n",
    "            else:\n",
    "              print(\"invalid input\")    \n",
    "\n",
    "        \n",
    "  def treatment(self):\n",
    "     print(\"\"\" The symptoms are as follows\n",
    "        1- Eyes   \n",
    "        2- Asthma, Headache   \n",
    "        3- Menopause\n",
    "       \"\"\")\n",
    "     treatment = int(input(\"Enter one number: \"))\n",
    "     self.treatment = treatment\n",
    "     if treatment == 1:\n",
    "       print(\"You will need to see an Optician for your treatment\")\n",
    "     elif treatment == 2:\n",
    "       print(\"Thanks for choosing us, you will need to see a Physician\")\n",
    "     elif treatment ==3:\n",
    "       print(\"You will be seeing a Gynecologist\")\n",
    "     else:\n",
    "       print(\"You will be transferred to our other branch\")\n",
    "       self.treatment()\n",
    "       print()\n",
    "                       \n",
    "         \n",
    "  def enquiries(self):\n",
    "    enquiries = (\"For more information call us on 234703065\")\n",
    "    self.enquiries = enquiries\n",
    "    print(self.enquiries)\n",
    "        \n",
    "        \n",
    "  \n",
    "        \n",
    "        "
   ]
  },
  {
   "cell_type": "code",
   "execution_count": 2,
   "metadata": {
    "colab": {
     "base_uri": "https://localhost:8080/"
    },
    "id": "oK-1kES9UfSZ",
    "outputId": "93a54a92-e191-4996-ca9f-ff3158819ffc"
   },
   "outputs": [
    {
     "name": "stdout",
     "output_type": "stream",
     "text": [
      "Hello Abdullah, Welcome to SO Hospital, your id is 1004\n",
      "1- booking\n",
      "2- doctor\n",
      "3- enquiries\n",
      "Enter here: 1\n",
      "Enter amount: 2000\n",
      "You are eligible for an appointment with us as a first timer\n"
     ]
    }
   ],
   "source": [
    "p1 = patient(\"Abdullah\", 1004, \"Cattarh\")\n",
    "p1.display()\n"
   ]
  },
  {
   "cell_type": "code",
   "execution_count": 5,
   "metadata": {
    "id": "aeDUO3TBX2Hm"
   },
   "outputs": [
    {
     "name": "stdout",
     "output_type": "stream",
     "text": [
      "Hello Aisha, Welcome to SO Hospital, your id is 1008\n",
      "1- booking\n",
      "2- doctor\n",
      "3- enquiries\n",
      "Enter here: 2\n",
      " The symptoms are as follows\n",
      "        1- Eyes   \n",
      "        2- Asthma, Headache   \n",
      "        3- Menopause\n",
      "       \n",
      "Enter one number: 2\n",
      "Thanks for choosing us, you will need to see a Physician\n"
     ]
    }
   ],
   "source": [
    "p2 = patient(\"Aisha\", 1008, \"Malaria\")\n",
    "p2.display()"
   ]
  },
  {
   "cell_type": "code",
   "execution_count": 6,
   "metadata": {},
   "outputs": [
    {
     "name": "stdout",
     "output_type": "stream",
     "text": [
      "Hello James, Welcome to SO Hospital, your id is 2243\n",
      "1- booking\n",
      "2- doctor\n",
      "3- enquiries\n",
      "Enter here: 3\n",
      "For more information call us on 234703065\n"
     ]
    }
   ],
   "source": [
    "p3 = patient(\"James\", 2243, \"Headache\")\n",
    "p3.display()"
   ]
  },
  {
   "cell_type": "code",
   "execution_count": null,
   "metadata": {},
   "outputs": [],
   "source": []
  }
 ],
 "metadata": {
  "colab": {
   "collapsed_sections": [],
   "provenance": []
  },
  "kernelspec": {
   "display_name": "Python 3 (ipykernel)",
   "language": "python",
   "name": "python3"
  },
  "language_info": {
   "codemirror_mode": {
    "name": "ipython",
    "version": 3
   },
   "file_extension": ".py",
   "mimetype": "text/x-python",
   "name": "python",
   "nbconvert_exporter": "python",
   "pygments_lexer": "ipython3",
   "version": "3.9.13"
  }
 },
 "nbformat": 4,
 "nbformat_minor": 1
}
